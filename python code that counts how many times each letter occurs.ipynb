{
  "metadata": {
    "language_info": {
      "codemirror_mode": {
        "name": "python",
        "version": 3
      },
      "file_extension": ".py",
      "mimetype": "text/x-python",
      "name": "python",
      "nbconvert_exporter": "python",
      "pygments_lexer": "ipython3",
      "version": "3.8"
    },
    "kernelspec": {
      "name": "python",
      "display_name": "Python (Pyodide)",
      "language": "python"
    }
  },
  "nbformat_minor": 4,
  "nbformat": 4,
  "cells": [
    {
      "cell_type": "code",
      "source": "text = \"\"\"\nURKAG QZODK BFMPA OGYQZ FFTQD QEGXF IUXXN QETAI ZUZMZ QIEGN IUZPA\nIFTQF UFXQA RFTQD QEGXF UZSIU ZPAIO AZFMU ZENAF TFTQZ MYQAR FTQAD\nUSUZM XPAOG YQZFM ZPFTQ QZODK BFUAZ WQKGE QPFTQ GEMSQ ARWQK EUEEG\nBBADF QPNKF IAEBQ OUMXU OAZEO XUOWU ZSFTQ UOAZE TAIWQ KMXXA IEKAG\nFAEFA DQMOA BKARF TQWQK GEQPR DAYMD QEGXF UZSIU ZPAIU ZFAMZ UZFQD\nZMXEF ADMSQ URKAG FTQZQ ZODKB FMZAF TQDPA OGYQZ FIUFT FTQEM YQQZO\nDKBFU AZYQF TAPFT QUOAZ UZEQD FWQKU EMOFU HQIUF TUZFT QWQKQ ZFDKP\nUMXAS NAJFT UEUET QXBRG XQEBQ OUMXX KIUFT YADQO AYBXQ JWQKE\n\"\"\"\n\nletter_count = {}\n\nfor letter in text:\n    if letter.isalpha(): # only count letters, not spaces or punctuation\n        if letter in letter_count:\n            letter_count[letter] += 1\n        else:\n            letter_count[letter] = 1\n\nfor letter, count in letter_count.items():\n    print(f\"{letter}: {count}\")\n",
      "metadata": {
        "trusted": true
      },
      "execution_count": 2,
      "outputs": [
        {
          "name": "stdout",
          "text": "U: 35\nR: 8\nK: 18\nA: 38\nG: 15\nQ: 53\nZ: 35\nO: 18\nD: 17\nB: 11\nF: 43\nM: 19\nP: 12\nY: 9\nT: 23\nE: 25\nX: 18\nI: 15\nN: 5\nS: 7\nW: 8\nH: 1\nJ: 2\n",
          "output_type": "stream"
        }
      ]
    },
    {
      "cell_type": "code",
      "source": "",
      "metadata": {},
      "execution_count": null,
      "outputs": []
    }
  ]
}